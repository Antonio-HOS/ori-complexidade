{
  "cells": [
    {
      "cell_type": "markdown",
      "metadata": {
        "id": "tVZQx8TIlHNK"
      },
      "source": [
        "#Lab 1.3 - Análise de Complexidade#\n",
        "Objetivos:\n",
        "- Compreender (talvez revisar) alguns dos pontos relevantes ao se analisar a complexidade (desempenho) de algoritmos\n",
        "\n",
        "Objetivos secundários:\n",
        "- Continuar exercício com raciocínio sobre algoritmos e estruturas básicas para organização e recuperação de informação\n",
        "- Continuar experiências com Python e Gráficos\n",
        "\n",
        "Atividades / Passos:\n",
        "- Geração de dados aleatórios\n",
        "- Observar um algoritmo e primeira análise\n",
        "- Medição por tempo e por \"número de instruções\"\n",
        "- Realizando experimentos\n",
        "- Analisando gráfico e performance\n",
        "- Analisando as ordens de complexidade típicas"
      ]
    },
    {
      "cell_type": "markdown",
      "metadata": {
        "id": "FcE5gBXYWWl3"
      },
      "source": [
        "# **Passo 1 : Geração de números aleatórios em uma lista (\"vetor\")**\n",
        "- Compreender a geração de números aleatórios, sobretudo o uso do seed (semente)\n",
        "- Gerar e manipular uma lista com N elementos"
      ]
    },
    {
      "cell_type": "code",
      "execution_count": 6,
      "metadata": {
        "colab": {
          "base_uri": "https://localhost:8080/"
        },
        "id": "CuTuPmH1k5pq",
        "outputId": "73cfb099-549f-4113-d7fa-14f2b8053e54"
      },
      "outputs": [
        {
          "name": "stdout",
          "output_type": "stream",
          "text": [
            "885441\n",
            "403959\n",
            "794773\n",
            "933489\n",
            "441002\n"
          ]
        }
      ],
      "source": [
        "# Compreendendo a geração de números aleatórios\n",
        "# Questão: Qual diferença ao usar o random.seed() dentro ou fora do FOR?\n",
        "# Questão: Em duas ou mais execuções os números aleatórios serão diferentes?\n",
        "import random\n",
        "random.seed(0)\n",
        "for i in range(5):\n",
        "    print(random.randint(1, 1000000))"
      ]
    },
    {
      "cell_type": "code",
      "execution_count": 7,
      "metadata": {
        "id": "5C0Hf1thn21A"
      },
      "outputs": [],
      "source": [
        "# Criando um vetor (lista) com\n",
        "#     - N elementos (tamanho),\n",
        "#     - dentro de uma faixa de valores (limite) e\n",
        "#     - sempre com uma mesma sequência (seed)\n",
        "\n",
        "import random\n",
        "\n",
        "def GeradorDados(tamanho, limite, seed):\n",
        "    dados = []\n",
        "    random.seed(seed)\n",
        "    for i in range(tamanho):\n",
        "        dados.append(random.randint(1, limite))\n",
        "\n",
        "    return dados\n"
      ]
    },
    {
      "cell_type": "code",
      "execution_count": 8,
      "metadata": {
        "colab": {
          "base_uri": "https://localhost:8080/"
        },
        "id": "OfzO4_5BUAh2",
        "outputId": "1567a065-2128-49e1-f415-6655fdbaf088"
      },
      "outputs": [
        {
          "name": "stdout",
          "output_type": "stream",
          "text": [
            " Tamanho da lista: 1000\n",
            " Lista: \n",
            "[979, 884, 971, 870, 58, 94, 87, 370, 856, 174, 754, 829, 686, 875, 316, 258, 621, 218, 622, 37]\n"
          ]
        }
      ],
      "source": [
        "# Gerando e manipulando os dados\n",
        "N   = 1000    # Quantidade de números no vetor\n",
        "LIM = 1000   # Limite para geração do número aleatório\n",
        "S   = 2         # Seed: para manter sempre uma mesma sequência\n",
        "\n",
        "dados = GeradorDados(N, LIM, S)\n",
        "\n",
        "print(\" Tamanho da lista: \" + str(len(dados)))\n",
        "print(\" Lista: \")\n",
        "print(dados[0:20])\n"
      ]
    },
    {
      "cell_type": "markdown",
      "metadata": {
        "id": "hJmm6V7YXsOH"
      },
      "source": [
        "# **Passo 2 : Observe a função**\n",
        "- Observe a função a seguir\n",
        "- O que ela está realizando?\n",
        "- De forma rápida, qual a ordem de complexidade dela?\n",
        "\n",
        "\n",
        "\n"
      ]
    },
    {
      "cell_type": "code",
      "execution_count": 9,
      "metadata": {
        "id": "_S-mMW_3X3LV"
      },
      "outputs": [],
      "source": [
        "import time\n",
        "\n",
        "def Funcao(lista):\n",
        "\n",
        "  ult = len(lista)-1\n",
        "  for i in range(ult, 1, -1):\n",
        "      for j in range(0, i-1):\n",
        "          if ( lista[j] > lista[j+1] ):\n",
        "               aux        = lista[j]\n",
        "               lista[j]   = lista[j+1]\n",
        "               lista[j+1] = aux\n"
      ]
    },
    {
      "cell_type": "code",
      "execution_count": 10,
      "metadata": {
        "colab": {
          "base_uri": "https://localhost:8080/"
        },
        "id": "hqsG1C2hhES7",
        "outputId": "574c6c80-b599-4d06-cd78-2dade6ad08be"
      },
      "outputs": [
        {
          "name": "stdout",
          "output_type": "stream",
          "text": [
            "[4, 6, 1, 3, 9]\n",
            "[1, 3, 4, 6, 9]\n"
          ]
        }
      ],
      "source": [
        "l = [4, 6, 1, 3, 9]\n",
        "print(l)\n",
        "Funcao(l)\n",
        "print(l)"
      ]
    },
    {
      "cell_type": "markdown",
      "metadata": {
        "id": "hFAeWdddmdZl"
      },
      "source": [
        "# **Passo 3 : Experimente a função**\n",
        "\n",
        "- Apresente uma proposta para analisar a performance do algoritmos por experimentos\n",
        "- a) Qual a característica (tamanho) do problema que impacta no número de instruções e protanto na performance?\n",
        "- b) Como contar as instruções?\n",
        "- c) Como medir o tempo?\n",
        "- d) Como derivar a função de complexidade?\n",
        "- e) Qual a ordem de complexidade em questão?\n"
      ]
    },
    {
      "cell_type": "code",
      "execution_count": null,
      "metadata": {
        "colab": {
          "base_uri": "https://localhost:8080/"
        },
        "id": "2NhXYC3UXrlh",
        "outputId": "0ffcf718-4311-46cf-f122-8778316df469"
      },
      "outputs": [],
      "source": [
        "\n",
        "Instr = 0\n",
        "\n",
        "def FuncaoInstr(lista):\n",
        "  global Instr\n",
        "  Instr += 4\n",
        "  ult = len(lista)-1\n",
        "  for i in range(ult, 1, -1):\n",
        "      Instr += 3\n",
        "      for j in range(0, i-1):\n",
        "          Instr += 4\n",
        "          if ( lista[j] > lista[j+1] ):\n",
        "               Instr += 3\n",
        "               aux        = lista[j]\n",
        "               lista[j]   = lista[j+1]\n",
        "               lista[j+1] = aux\n",
        "\n",
        "  print(\"[Instruções: \" + str(Instr)+\"]\")"
      ]
    },
    {
      "cell_type": "markdown",
      "metadata": {
        "id": "pY8gfNEfXcH-"
      },
      "source": [
        "# **Passo 4 : Medir o esforço computacional da função**\n",
        "- Varie a propriedade do problema para valores por exemplo de 10, 50, 100, 500, 1000, 10000\n",
        "- Recupere os resultados da execução para posterior análise gráfica\n"
      ]
    },
    {
      "cell_type": "code",
      "execution_count": 12,
      "metadata": {
        "colab": {
          "base_uri": "https://localhost:8080/"
        },
        "id": "nIqqp38899ug",
        "outputId": "052ff319-c1ab-4fde-f9ca-cbcecd07d22b"
      },
      "outputs": [
        {
          "name": "stdout",
          "output_type": "stream",
          "text": [
            "Instruções: 193\n",
            "Instruções: 6797\n",
            "Instruções: 32508\n",
            "Instruções: 729877\n",
            "Instruções: 3478670\n",
            "Instruções: 278422671\n"
          ]
        }
      ],
      "source": [
        "dadosTeste1 = GeradorDados(10, 10, S)\n",
        "dadosTeste2 = GeradorDados(50, 50, S)\n",
        "dadosTeste3 = GeradorDados(100, 100, S)\n",
        "dadosTeste4 = GeradorDados(500, 500, S)\n",
        "dadosTeste5 = GeradorDados(1000, 1000, S)\n",
        "dadosTeste6 = GeradorDados(10000, 10000, S)\n",
        "\n",
        "FuncaoInstr(dadosTeste1)\n",
        "FuncaoInstr(dadosTeste2)\n",
        "FuncaoInstr(dadosTeste3)\n",
        "FuncaoInstr(dadosTeste4)\n",
        "FuncaoInstr(dadosTeste5)\n",
        "FuncaoInstr(dadosTeste6)"
      ]
    },
    {
      "cell_type": "code",
      "execution_count": null,
      "metadata": {
        "id": "lohGE-Phds31"
      },
      "outputs": [],
      "source": []
    },
    {
      "cell_type": "markdown",
      "metadata": {
        "id": "yu3RT7S0oEpV"
      },
      "source": [
        "# **Passo 5: Analisar o gráfico do experimento**\n",
        "- Com os resultados dos experimentos analise o gráfico de performance.\n",
        "- Compare com os gráficos de pesquisa binária e de pesquisa binária"
      ]
    },
    {
      "cell_type": "code",
      "execution_count": null,
      "metadata": {
        "id": "TXLJo4pteIUT"
      },
      "outputs": [],
      "source": [
        "# Questão: Verifique de o Pandas e o Dataframe são muito usados em ciência de dados?\n",
        "#          Imagine como seria um gráfico (Tempo vs Posição da Chave) e (Número de Instruções vs Posição)\n",
        "import pandas as pd\n",
        "import seaborn as sns\n",
        "import matplotlib.pyplot as plt\n",
        "# Analisando graficamente\n",
        "\n",
        "# Gerando um Dataframe, isso ajudará na produção dos gráficos\n",
        "# Veremos mais sobre Dataframes e Gráficos em próximos capítulos\n",
        "df = pd.DataFrame(lstresults, columns =['Chave', 'Existe', 'Posicao', 'Tempo', 'Instrucoes'])\n",
        "\n",
        "# Criando o ambiente do gráfico\n",
        "sns.set_style(\"white\")\n",
        "plt.figure(figsize=(10, 10))\n",
        "\n",
        "# Gráfico de Dispersão\n",
        "graf_linha = sns.lineplot(data = df, x=\"Posicao\", y=\"Instrucoes\",\n",
        "                          color=\"red\", marker=\"*\", markersize=10, markers=\"True\")\n",
        "plt.show()\n"
      ]
    },
    {
      "cell_type": "markdown",
      "metadata": {
        "id": "tpccGELdqOTZ"
      },
      "source": [
        "# **Passo 6: Análise gráfica das principais ordens de complexidade**\n",
        "- Para cada função das principais ordens de complexidade, avalie um valor com N variando entre 2 4 6 8 10 20 40 60 80 100\n",
        "- Plote o gráfico contendo todas elas e compare a complexidade.\n",
        "- Se for necessário exclua algumas para facilitar a comparação entre elas\n",
        "\n",
        "\n"
      ]
    },
    {
      "cell_type": "code",
      "execution_count": null,
      "metadata": {
        "colab": {
          "base_uri": "https://localhost:8080/"
        },
        "id": "eENCrRDlWXvF",
        "outputId": "74bd8fb1-4c35-4b62-b9ab-ad4ae8cc67f9"
      },
      "outputs": [
        {
          "name": "stdout",
          "output_type": "stream",
          "text": [
            "[[1, 0.0, 1, 1.0, 1.0, 2.0], [2, 1.0, 2, 4.0, 8.0, 4.0], [3, 1.5849625007211563, 3, 9.0, 27.0, 8.0], [4, 2.0, 4, 16.0, 64.0, 16.0], [5, 2.321928094887362, 5, 25.0, 125.0, 32.0], [6, 2.584962500721156, 6, 36.0, 216.0, 64.0], [7, 2.807354922057604, 7, 49.0, 343.0, 128.0], [8, 3.0, 8, 64.0, 512.0, 256.0], [9, 3.1699250014423126, 9, 81.0, 729.0, 512.0], [10, 3.3219280948873626, 10, 100.0, 1000.0, 1024.0]]\n"
          ]
        }
      ],
      "source": [
        "import math\n",
        "\n",
        "valores_n = [2,4,6,8,10,20,40,60,80,100]\n",
        "# valores_n = [1, 2, 3, 4, 5, 6, 7, 8, 9, 10]\n",
        "\n",
        "linha   = []\n",
        "lstresults = []\n",
        "\n",
        "for n in valores_n:\n",
        "    vlog = math.log(n, 2)\n",
        "    vn   = n\n",
        "    vn_2 = math.pow(n, 2)\n",
        "    vn_3 = math.pow(n, 3)\n",
        "    v2_n = math.pow(2, n)\n",
        "\n",
        "    linha = [n, vlog, vn, vn_2, vn_3, v2_n]\n",
        "    lstresults.append(linha)\n",
        "\n",
        "print(lstresults)\n"
      ]
    },
    {
      "cell_type": "code",
      "execution_count": 16,
      "metadata": {
        "colab": {
          "base_uri": "https://localhost:8080/",
          "height": 850
        },
        "id": "zYfyCKKuYQLA",
        "outputId": "4658a99a-d32d-432e-ff56-1b57de97d063"
      },
      "outputs": [
        {
          "name": "stderr",
          "output_type": "stream",
          "text": [
            "c:\\Users\\anton\\anaconda3\\Lib\\site-packages\\seaborn\\_oldcore.py:1119: FutureWarning: use_inf_as_na option is deprecated and will be removed in a future version. Convert inf values to NaN before operating instead.\n",
            "  with pd.option_context('mode.use_inf_as_na', True):\n",
            "c:\\Users\\anton\\anaconda3\\Lib\\site-packages\\seaborn\\_oldcore.py:1119: FutureWarning: use_inf_as_na option is deprecated and will be removed in a future version. Convert inf values to NaN before operating instead.\n",
            "  with pd.option_context('mode.use_inf_as_na', True):\n",
            "c:\\Users\\anton\\anaconda3\\Lib\\site-packages\\seaborn\\_oldcore.py:1119: FutureWarning: use_inf_as_na option is deprecated and will be removed in a future version. Convert inf values to NaN before operating instead.\n",
            "  with pd.option_context('mode.use_inf_as_na', True):\n",
            "c:\\Users\\anton\\anaconda3\\Lib\\site-packages\\seaborn\\_oldcore.py:1119: FutureWarning: use_inf_as_na option is deprecated and will be removed in a future version. Convert inf values to NaN before operating instead.\n",
            "  with pd.option_context('mode.use_inf_as_na', True):\n",
            "c:\\Users\\anton\\anaconda3\\Lib\\site-packages\\seaborn\\_oldcore.py:1119: FutureWarning: use_inf_as_na option is deprecated and will be removed in a future version. Convert inf values to NaN before operating instead.\n",
            "  with pd.option_context('mode.use_inf_as_na', True):\n",
            "c:\\Users\\anton\\anaconda3\\Lib\\site-packages\\seaborn\\_oldcore.py:1119: FutureWarning: use_inf_as_na option is deprecated and will be removed in a future version. Convert inf values to NaN before operating instead.\n",
            "  with pd.option_context('mode.use_inf_as_na', True):\n",
            "c:\\Users\\anton\\anaconda3\\Lib\\site-packages\\seaborn\\_oldcore.py:1119: FutureWarning: use_inf_as_na option is deprecated and will be removed in a future version. Convert inf values to NaN before operating instead.\n",
            "  with pd.option_context('mode.use_inf_as_na', True):\n",
            "c:\\Users\\anton\\anaconda3\\Lib\\site-packages\\seaborn\\_oldcore.py:1119: FutureWarning: use_inf_as_na option is deprecated and will be removed in a future version. Convert inf values to NaN before operating instead.\n",
            "  with pd.option_context('mode.use_inf_as_na', True):\n",
            "c:\\Users\\anton\\anaconda3\\Lib\\site-packages\\seaborn\\_oldcore.py:1119: FutureWarning: use_inf_as_na option is deprecated and will be removed in a future version. Convert inf values to NaN before operating instead.\n",
            "  with pd.option_context('mode.use_inf_as_na', True):\n",
            "c:\\Users\\anton\\anaconda3\\Lib\\site-packages\\seaborn\\_oldcore.py:1119: FutureWarning: use_inf_as_na option is deprecated and will be removed in a future version. Convert inf values to NaN before operating instead.\n",
            "  with pd.option_context('mode.use_inf_as_na', True):\n"
          ]
        },
        {
          "data": {
            "image/png": "[encoded data removed]",
            "text/plain": [
              "<Figure size 1000x1000 with 1 Axes>"
            ]
          },
          "metadata": {},
          "output_type": "display_data"
        }
      ],
      "source": [
        "import pandas as pd\n",
        "import seaborn as sns\n",
        "import matplotlib.pyplot as plt\n",
        "# Analisando graficamente\n",
        "\n",
        "# Gerando um Dataframe, isso ajudará na produção dos gráficos\n",
        "# Veremos mais sobre Dataframes e Gráficos em próximos capítulos\n",
        "df = pd.DataFrame(lstresults, columns =['N', 'log_N', 'N_1', 'N_2', 'N_3', '2_N'])\n",
        "\n",
        "# Criando o ambiente do gráfico\n",
        "sns.set_style(\"white\")\n",
        "plt.figure(figsize=(10, 10))\n",
        "\n",
        "# Gráfico de Dispersão\n",
        "graf_linha = sns.lineplot(data = df, x=\"N\", y=\"log_N\",\n",
        "                          color=\"red\", marker=\"*\", markersize=10, markers=\"True\")\n",
        "graf_linha = sns.lineplot(data = df, x=\"N\", y=\"N_1\",\n",
        "                          color=\"blue\", marker=\"*\", markersize=10, markers=\"True\")\n",
        "graf_linha = sns.lineplot(data = df, x=\"N\", y=\"N_2\",\n",
        "                          color=\"green\", marker=\"*\", markersize=10, markers=\"True\")\n",
        "graf_linha = sns.lineplot(data = df, x=\"N\", y=\"N_3\",\n",
        "                          color=\"yellow\", marker=\"*\", markersize=10, markers=\"True\")\n",
        "graf_linha = sns.lineplot(data = df, x=\"N\", y=\"2_N\",\n",
        "                          color=\"magenta\", marker=\"*\", markersize=10, markers=\"True\")\n",
        "plt.show()\n"
      ]
    }
  ],
  "metadata": {
    "colab": {
      "provenance": []
    },
    "kernelspec": {
      "display_name": "base",
      "language": "python",
      "name": "python3"
    },
    "language_info": {
      "codemirror_mode": {
        "name": "ipython",
        "version": 3
      },
      "file_extension": ".py",
      "mimetype": "text/x-python",
      "name": "python",
      "nbconvert_exporter": "python",
      "pygments_lexer": "ipython3",
      "version": "3.11.7"
    }
  },
  "nbformat": 4,
  "nbformat_minor": 0
}
